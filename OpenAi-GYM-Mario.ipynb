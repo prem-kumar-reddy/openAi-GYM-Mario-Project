{
  "cells": [
    {
      "cell_type": "code",
      "execution_count": 1,
      "metadata": {
        "id": "FywZ2VNErbTb",
        "colab": {
          "base_uri": "https://localhost:8080/"
        },
        "outputId": "99821d93-9d67-4e13-c8c7-a81551bf6fc0"
      },
      "outputs": [
        {
          "output_type": "stream",
          "name": "stdout",
          "text": [
            "Collecting gym-super-mario-bros\n",
            "  Downloading gym_super_mario_bros-7.3.2-py2.py3-none-any.whl (198 kB)\n",
            "\u001b[K     |████████████████████████████████| 198 kB 11.9 MB/s \n",
            "\u001b[?25hCollecting nes-py>=8.1.2\n",
            "  Downloading nes_py-8.1.8.tar.gz (76 kB)\n",
            "\u001b[K     |████████████████████████████████| 76 kB 5.1 MB/s \n",
            "\u001b[?25hRequirement already satisfied: gym>=0.17.2 in /usr/local/lib/python3.7/dist-packages (from nes-py>=8.1.2->gym-super-mario-bros) (0.17.3)\n",
            "Requirement already satisfied: numpy>=1.18.5 in /usr/local/lib/python3.7/dist-packages (from nes-py>=8.1.2->gym-super-mario-bros) (1.21.6)\n",
            "Requirement already satisfied: pyglet<=1.5.11,>=1.4.0 in /usr/local/lib/python3.7/dist-packages (from nes-py>=8.1.2->gym-super-mario-bros) (1.5.0)\n",
            "Requirement already satisfied: tqdm>=4.48.2 in /usr/local/lib/python3.7/dist-packages (from nes-py>=8.1.2->gym-super-mario-bros) (4.64.0)\n",
            "Requirement already satisfied: cloudpickle<1.7.0,>=1.2.0 in /usr/local/lib/python3.7/dist-packages (from gym>=0.17.2->nes-py>=8.1.2->gym-super-mario-bros) (1.3.0)\n",
            "Requirement already satisfied: scipy in /usr/local/lib/python3.7/dist-packages (from gym>=0.17.2->nes-py>=8.1.2->gym-super-mario-bros) (1.4.1)\n",
            "Requirement already satisfied: future in /usr/local/lib/python3.7/dist-packages (from pyglet<=1.5.11,>=1.4.0->nes-py>=8.1.2->gym-super-mario-bros) (0.16.0)\n",
            "Building wheels for collected packages: nes-py\n",
            "  Building wheel for nes-py (setup.py) ... \u001b[?25l\u001b[?25hdone\n",
            "  Created wheel for nes-py: filename=nes_py-8.1.8-cp37-cp37m-linux_x86_64.whl size=439057 sha256=5f7e531de55a1e02f810cf3f40fb93e083267855ce69a07359b9b7b9010d330b\n",
            "  Stored in directory: /root/.cache/pip/wheels/f2/05/1f/608f15ab43187096eb5f3087506419c2d9772e97000f3ba025\n",
            "Successfully built nes-py\n",
            "Installing collected packages: nes-py, gym-super-mario-bros\n",
            "Successfully installed gym-super-mario-bros-7.3.2 nes-py-8.1.8\n"
          ]
        }
      ],
      "source": [
        " !pip install gym-super-mario-bros"
      ]
    },
    {
      "cell_type": "markdown",
      "source": [
        "## Importing Libraries"
      ],
      "metadata": {
        "id": "Cv2AYtOnG7sI"
      }
    },
    {
      "cell_type": "code",
      "execution_count": 8,
      "metadata": {
        "id": "rftA_mU9tPu9"
      },
      "outputs": [],
      "source": [
        "import tensorflow as tf\n",
        "import random \n",
        "import gym\n",
        "import numpy as np\n",
        "from collections import deque\n",
        "from tensorflow.keras.models import Sequential\n",
        "from tensorflow.keras.layers import Dense, Activation, Flatten, Conv2D, MaxPooling2D\n",
        "from tensorflow.keras.optimizers import Adam\n",
        "import gym_super_mario_bros\n",
        "from gym_super_mario_bros.actions import RIGHT_ONLY\n",
        "from nes_py.wrappers import JoypadSpace\n",
        "import IPython.display as display\n",
        "\n",
        "from keras.models import save_model\n",
        "from keras.models import load_model\n",
        "\n",
        "import time\n",
        "\n",
        "import matplotlib.pyplot as plt\n",
        "%matplotlib inline\n",
        "import random\n"
      ]
    },
    {
      "cell_type": "code",
      "execution_count": 3,
      "metadata": {
        "id": "Hb6NQuiXye85"
      },
      "outputs": [],
      "source": [
        "env = gym_super_mario_bros.make('SuperMarioBros-v1')\n",
        "env = JoypadSpace(env, RIGHT_ONLY)"
      ]
    },
    {
      "cell_type": "markdown",
      "source": [
        "## Deep Q-Network Model"
      ],
      "metadata": {
        "id": "h_70ky1bG1iL"
      }
    },
    {
      "cell_type": "code",
      "execution_count": 4,
      "metadata": {
        "id": "qIXTceYQ43Jh"
      },
      "outputs": [],
      "source": [
        "class DQNAgent:\n",
        "  def __init__(self, state_size, action_size, epislon=1):\n",
        "    #create variables for our agent\n",
        "     self.state_space = state_size\n",
        "     self.action_space = action_size\n",
        "     self.memory = deque(maxlen=5000)\n",
        "     self.gamma = 0.8\n",
        "     self.chosenAction = 0\n",
        "\n",
        "     #Exploration vs Explotation\n",
        "     self.epislon = epislon\n",
        "     self.max_epislon = 1\n",
        "     self.min_epislon = 0.01\n",
        "     self.epislon_decay = 0.0001\n",
        "\n",
        "     #Building Neural Networks for Agent\n",
        "     self.main_network = self.build_network()\n",
        "     self.target_network = self.build_network()\n",
        "     self.update_target_network()\n",
        "\n",
        "  def build_network(self):\n",
        "    model = Sequential()\n",
        "    model.add(Conv2D(64, (4,4), strides = 4, padding='same', input_shape=self.state_space))\n",
        "    model.add(Activation('relu'))\n",
        "\n",
        "    model.add(Conv2D(64, (4,4), strides = 4, padding='same', input_shape=self.state_space))\n",
        "    model.add(Activation('relu'))\n",
        "\n",
        "    model.add(Conv2D(64, (3,3), strides = 4, padding='same', input_shape=self.state_space))\n",
        "    model.add(Activation('relu'))\n",
        "    model.add(Flatten())\n",
        "    \n",
        "    model.add(Dense(512, activation='relu'))\n",
        "    model.add(Dense(256, activation='relu'))\n",
        "    model.add(Dense(self.action_space,activation='linear'))\n",
        "\n",
        "    model.compile(loss= 'mse',optimizer=Adam())\n",
        "\n",
        "    return model\n",
        "\n",
        "  def update_target_network(self):\n",
        "    self.target_network.set_weights(self.main_network.get_weights())\n",
        "\n",
        "  def act(self,state,onGround=79):\n",
        "    if onGround < 83:\n",
        "      print(\"On-Ground\")\n",
        "      if random.uniform(0,1) < self.epislon:\n",
        "        self.chosenAction = np.random.randint(self.action_space)\n",
        "        return self.chosenAction\n",
        "      Q_value = self.main_network.predict(state)\n",
        "      self.chosenAction = np.argmax(Q_value[0])\n",
        "      return self.chosenAction\n",
        "    else:\n",
        "      print(\"Not on Ground\")\n",
        "      return self.chosenAction\n",
        "    \n",
        "  def get_pred_act(self,state):\n",
        "    Q_value = self.main_network.predict(state)\n",
        "    return np.argmax(Q_value[0])\n",
        "\n",
        "  def update_epislon(self, episode):\n",
        "    self.epislon = self.min_epislon + (self.max_epislon - self.min_epislon) * np.exp(-self.epislon_decay * episode)\n",
        "  \n",
        "  def train(self, batch_size):\n",
        "    #minibatch memory\n",
        "    minibatch = random.sample(self.memory, batch_size)\n",
        "\n",
        "    #Get values from batch so we can find q-value\n",
        "    for state, action, reward, next_state, done in minibatch:\n",
        "      target = self.main_network.predict(state)\n",
        "\n",
        "      if done:\n",
        "        target[0][action] = reward\n",
        "      else:\n",
        "        target[0][action] = (reward + self.gamma * np.amax(self.target_network.predict(next_state)))\n",
        "\n",
        "      self.main_network.fit(state, target, epochs=1, verbose=0)\n",
        "\n",
        "  def store_transition(self, state, action, reward, next_state, done):\n",
        "    self.memory.append((state,action,reward,next_state,done))\n",
        "\n",
        "  def load_model(self,name):\n",
        "    self.main_network = load_model(name)\n",
        "    self.target_network = load_model(name)\n",
        "  \n",
        "  def save_model(self,name):\n",
        "    save_model(self.main_network, name)"
      ]
    },
    {
      "cell_type": "markdown",
      "source": [
        "## Preprocessing"
      ],
      "metadata": {
        "id": "7ZTdpbJXHJMe"
      }
    },
    {
      "cell_type": "code",
      "execution_count": 5,
      "metadata": {
        "id": "muP_fCWaUhM-"
      },
      "outputs": [],
      "source": [
        "action_space = env.action_space.n\n",
        "state_space = (80, 88, 1)\n",
        "\n",
        "from PIL import Image\n",
        "\n",
        "def preprocess_state(state):\n",
        "  image = Image.fromarray(state)\n",
        "  image = image.resize((88,80))\n",
        "  image = image.convert('L')\n",
        "  image = np.array(image)\n",
        "\n",
        "  return image\n",
        "#env.observation_space"
      ]
    },
    {
      "cell_type": "code",
      "execution_count": 6,
      "metadata": {
        "id": "sMxP-9F6uPOU"
      },
      "outputs": [],
      "source": [
        "num_episodes = 5\n",
        "num_timesteps = 2000\n",
        "batch_size = 64\n",
        "DEBUG_LENGTH = 300"
      ]
    },
    {
      "cell_type": "code",
      "execution_count": 7,
      "metadata": {
        "id": "JyOW9SS-ukal"
      },
      "outputs": [],
      "source": [
        "dqn = DQNAgent(state_space,action_space)"
      ]
    },
    {
      "cell_type": "markdown",
      "source": [
        "## Training"
      ],
      "metadata": {
        "id": "ccFRw-HiGwqZ"
      }
    },
    {
      "cell_type": "code",
      "execution_count": null,
      "metadata": {
        "colab": {
          "base_uri": "https://localhost:8080/"
        },
        "id": "RITbzQIIu_Ha",
        "outputId": "82459af7-8758-4712-8b1f-3de159d7a828",
        "scrolled": false
      },
      "outputs": [
        {
          "name": "stdout",
          "output_type": "stream",
          "text": [
            "Not on Ground\n",
            "x_pos: 49  y_pos: 134\n",
            "Episode is: 1\n",
            "Total Time Step: 17\n",
            "Current Reward: 9\n",
            "Epsilon: 1.0\n",
            "\n",
            "---------DQN Training Starts--------\n",
            "\n",
            "---------DQN Training Ends-----------\n",
            "\n"
          ]
        }
      ],
      "source": [
        "print(\"STARTING Training\\n\")\n",
        "\n",
        "stuck_buffer = deque(maxlen=DEBUG_LENGTH)\n",
        "\n",
        "for i in range(num_episodes):\n",
        "  Return = 0\n",
        "  done = False\n",
        "  time_step = 0\n",
        "  onGround = 79\n",
        "    \n",
        "#   random_time_steps = []\n",
        "#   if (i+1)%2==0:\n",
        "#     random_time_steps = random.sample(range(num_timesteps),num_timesteps//2)\n",
        "  state = preprocess_state(env.reset())\n",
        "  state = state.reshape(-1,80,88,1)\n",
        "  img = plt.imshow(env.render(mode='rgb_array')) # only call this once. # For Colab\n",
        "  for t in range(num_timesteps):\n",
        "    img.set_data(env.render(mode='rgb_array')) # just update the data # For Colab\n",
        "    display.clear_output(wait=True)\n",
        "    display.display(plt.gcf())\n",
        "    # env.render() # For Jupyter\n",
        "\n",
        "    time_step += 1\n",
        "\n",
        "    if t>1 and stuck_buffer.count(stuck_buffer[-1])>DEBUG_LENGTH-50:\n",
        "      action = dqn.act(state,onGround=79)\n",
        "    else:\n",
        "      action = dqn.act(state,onGround)\n",
        "    \n",
        "    next_state, reward, done, info = env.step(action)\n",
        "\n",
        "    print(\"x_pos:\",info['x_pos'],\" y_pos:\",info['y_pos'])\n",
        "    onGround = info['y_pos']\n",
        "    stuck_buffer.append(info['x_pos'])\n",
        "\n",
        "    next_state = preprocess_state(next_state)\n",
        "    next_state = next_state.reshape(-1,80,88,1)\n",
        "\n",
        "    dqn.store_transition(state, action, reward, next_state, done)\n",
        "    state = next_state\n",
        "\n",
        "    Return += reward\n",
        "    print(\"Episode is: {}\\nTotal Time Step: {}\\nCurrent Reward: {}\\nEpsilon: {}\".format(str(i),str(time_step),str(Return),str(dqn.epislon)))\n",
        "\n",
        "    \n",
        "    if len(dqn.memory) > batch_size and i>0:\n",
        "      print(\"\\n---------DQN Training Starts--------\\n\")\n",
        "      dqn.train(batch_size)\n",
        "      print(\"---------DQN Training Ends-----------\\n\")\n",
        "      dqn.save_model('mario-RL.h5')\n",
        "      #time.sleep(1)\n",
        "\n",
        "    display.clear_output(wait=True)\n",
        "    if done:\n",
        "      break\n",
        "\n",
        "  \n",
        "  dqn.update_epislon(i)\n",
        "  display.clear_output(wait=True)\n",
        "  dqn.update_target_network()\n",
        "\n",
        "env.close()  "
      ]
    },
    {
      "cell_type": "code",
      "execution_count": null,
      "metadata": {
        "id": "0HGyYDfUKY3e"
      },
      "outputs": [],
      "source": [
        "dqn.save_model('mario-RL.h5')"
      ]
    },
    {
      "cell_type": "markdown",
      "source": [
        "## Visualization of Trained Model"
      ],
      "metadata": {
        "id": "9qAcUjL4Go_i"
      }
    },
    {
      "cell_type": "code",
      "execution_count": 14,
      "metadata": {
        "id": "4NQ61JJ6F0yu"
      },
      "outputs": [],
      "source": [
        "dqn = DQNAgent(state_space,action_space)"
      ]
    },
    {
      "cell_type": "code",
      "execution_count": null,
      "metadata": {
        "colab": {
          "base_uri": "https://localhost:8080/",
          "height": 269
        },
        "id": "jjXAE7LpLZPk",
        "outputId": "7015865a-83a4-4b93-a33c-ab24e1cae43e",
        "scrolled": true
      },
      "outputs": [
        {
          "output_type": "display_data",
          "data": {
            "text/plain": [
              "<Figure size 432x288 with 1 Axes>"
            ],
            "image/png": "[encoded data removed]"
          },
          "metadata": {}
        }
      ],
      "source": [
        "# Visualizing Trained Model\n",
        "dqn.load_model('mario-RL.h5')\n",
        "while True:\n",
        "  done = False\n",
        "  state = preprocess_state(env.reset())\n",
        "  state = state.reshape(-1, 80, 88, 1)\n",
        "  total_reward = 0\n",
        "  \n",
        "  img = plt.imshow(env.render(mode='rgb_array'))\n",
        "  while not done:\n",
        "    img.set_data(env.render(mode='rgb_array')) # just update the data # For Colab\n",
        "    display.clear_output(wait=True)\n",
        "    display.display(plt.gcf())\n",
        "    #env.render()\n",
        "    \n",
        "    action = dqn.get_pred_act(state)\n",
        "    next_state, reward, done, info = env.step(action)\n",
        "\n",
        "    next_state = preprocess_state(next_state)\n",
        "    next_state = next_state.reshape(-1, 80, 88, 1)\n",
        "    state = next_state\n",
        "\n",
        "env.close()"
      ]
    },
    {
      "cell_type": "code",
      "execution_count": null,
      "metadata": {
        "id": "bOijNa-EF0yv"
      },
      "outputs": [],
      "source": [
        ""
      ]
    }
  ],
  "metadata": {
    "accelerator": "GPU",
    "colab": {
      "name": "RL_Project _S20190010071_S20190010127.ipynb",
      "provenance": [],
      "collapsed_sections": [
        "7ZTdpbJXHJMe"
      ]
    },
    "kernelspec": {
      "display_name": "Python 3 (ipykernel)",
      "language": "python",
      "name": "python3"
    },
    "language_info": {
      "codemirror_mode": {
        "name": "ipython",
        "version": 3
      },
      "file_extension": ".py",
      "mimetype": "text/x-python",
      "name": "python",
      "nbconvert_exporter": "python",
      "pygments_lexer": "ipython3",
      "version": "3.9.7"
    }
  },
  "nbformat": 4,
  "nbformat_minor": 0
}